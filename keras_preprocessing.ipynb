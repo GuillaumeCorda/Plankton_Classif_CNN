{
 "cells": [
  {
   "cell_type": "markdown",
   "metadata": {},
   "source": [
    "# Imports"
   ]
  },
  {
   "cell_type": "code",
   "execution_count": null,
   "metadata": {
    "ExecuteTime": {
     "end_time": "2018-12-19T19:53:54.300060Z",
     "start_time": "2018-12-19T19:53:45.970317Z"
    }
   },
   "outputs": [],
   "source": [
    "import csv\n",
    "import h5py\n",
    "import matplotlib\n",
    "import matplotlib.image as mpimg\n",
    "import matplotlib.pyplot as plt\n",
    "import numpy as np\n",
    "import pandas as pd\n",
    "import os\n",
    "import pylab\n",
    "import itertools\n",
    "import shutil\n",
    "import seaborn\n",
    "\n",
    "from scipy.stats import moment \n",
    "from scipy.ndimage import shift\n",
    "\n",
    "from imblearn.over_sampling import RandomOverSampler\n",
    "\n",
    "from keras import regularizers, optimizers\n",
    "from keras.layers import Dense, Dropout, Flatten, MaxPooling2D, Conv2D, Activation\n",
    "from keras.layers import Input, Embedding, concatenate, LeakyReLU\n",
    "from keras.models import load_model, Sequential\n",
    "from keras.utils import to_categorical\n",
    "from keras.preprocessing.image import ImageDataGenerator\n",
    "from keras.layers.normalization import BatchNormalization\n",
    "from keras.models import Model\n",
    "from keras.applications import VGG16\n",
    "from keras.callbacks import History\n",
    "\n",
    "import xgboost as xgb\n",
    "\n",
    "from skimage import segmentation, morphology, measure\n",
    "from skimage.transform import resize\n",
    "from skimage.morphology import watershed\n",
    "\n",
    "from sklearn.model_selection import train_test_split\n",
    "from sklearn.ensemble import RandomForestClassifier\n",
    "\n",
    "%matplotlib inline"
   ]
  },
  {
   "cell_type": "markdown",
   "metadata": {},
   "source": [
    "# Set paths and model hyper-parameters"
   ]
  },
  {
   "cell_type": "code",
   "execution_count": null,
   "metadata": {
    "ExecuteTime": {
     "end_time": "2018-12-15T14:24:11.314196Z",
     "start_time": "2018-12-15T14:24:11.305519Z"
    }
   },
   "outputs": [],
   "source": [
    "class CONFIG():\n",
    "    def __init__(self, path, data_location='data/', train_images_location='data/train_images/',\n",
    "                 test_images_location='/data/test_images/', image_size=428, n_classes=121, batch_size=32,\n",
    "                 n_epochs=10):\n",
    "        self.path = path\n",
    "        self.data_location = self.path + data_location\n",
    "        self.train_images_location = self.path + train_images_location\n",
    "        self.test_images_location = self.path + test_images_location \n",
    "        self.image_size = image_size\n",
    "        self.n_classes = n_classes\n",
    "        self.batch_size = batch_size\n",
    "        self.n_epochs = n_epochs"
   ]
  },
  {
   "cell_type": "code",
   "execution_count": null,
   "metadata": {
    "ExecuteTime": {
     "end_time": "2018-12-15T14:24:11.827598Z",
     "start_time": "2018-12-15T14:24:11.822253Z"
    }
   },
   "outputs": [],
   "source": [
    "cfg = CONFIG(path='/Users/guillaumecorda/Desktop/UvA/Applied Machine Learning/Kaggle/')"
   ]
  },
  {
   "cell_type": "code",
   "execution_count": null,
   "metadata": {
    "ExecuteTime": {
     "end_time": "2018-12-15T14:24:12.019348Z",
     "start_time": "2018-12-15T14:24:12.016562Z"
    }
   },
   "outputs": [],
   "source": [
    "train_dir = '/Users/guillaumecorda/Desktop/UvA/Applied Machine Learning/Kaggle/data/train_images/'\n",
    "validation_dir = '/Users/guillaumecorda/Desktop/UvA/Applied Machine Learning/Kaggle/data/val_images/'"
   ]
  },
  {
   "cell_type": "markdown",
   "metadata": {},
   "source": [
    "# Load and organize data"
   ]
  },
  {
   "cell_type": "code",
   "execution_count": null,
   "metadata": {
    "ExecuteTime": {
     "end_time": "2018-12-15T14:26:22.198196Z",
     "start_time": "2018-12-15T14:26:21.982335Z"
    }
   },
   "outputs": [],
   "source": [
    "filenames = [i for i in os.listdir(cfg.train_images_location) if i.endswith('.jpg')]\n",
    "with open(cfg.data_location + 'train_onelabel.csv', mode='r') as infile:\n",
    "    reader = csv.reader(infile)\n",
    "    file_to_class = {el[0]:el[1] for el in reader}\n",
    "\n",
    "with open(cfg.data_location + 'train_onelabel.csv', mode='r') as infile:\n",
    "    reader = csv.reader(infile)\n",
    "    class_counts = {}\n",
    "    for row in reader:\n",
    "        if(row[1] != 'class'):\n",
    "            class_counts[int(row[1])] = class_counts.get(int(row[1]), 0) + 1\n",
    "    max_nr = max(class_counts.values())\n",
    "    for key, value in class_counts.items():\n",
    "        class_counts[key] = int(class_counts[key] + (max_nr - class_counts[key])/6)"
   ]
  },
  {
   "cell_type": "code",
   "execution_count": null,
   "metadata": {
    "ExecuteTime": {
     "end_time": "2018-12-15T14:26:22.389701Z",
     "start_time": "2018-12-15T14:26:22.380696Z"
    }
   },
   "outputs": [],
   "source": [
    "X = np.empty([len(filenames),cfg.image_size, cfg.image_size, 1])\n",
    "Y_tmp = np.empty([len(filenames)])\n",
    "Y = np.empty([sum(class_counts.values()),cfg.n_classes])"
   ]
  },
  {
   "cell_type": "markdown",
   "metadata": {},
   "source": [
    "## Organize Data"
   ]
  },
  {
   "cell_type": "code",
   "execution_count": null,
   "metadata": {
    "ExecuteTime": {
     "end_time": "2018-12-06T11:47:38.749573Z",
     "start_time": "2018-12-06T11:47:38.627810Z"
    }
   },
   "outputs": [],
   "source": [
    "label_map =  pd.read_csv(cfg.data_location+'train_onelabel.csv')\n",
    "label_map.head()"
   ]
  },
  {
   "cell_type": "code",
   "execution_count": null,
   "metadata": {
    "ExecuteTime": {
     "end_time": "2018-12-05T16:53:05.349500Z",
     "start_time": "2018-12-05T16:53:05.120932Z"
    },
    "scrolled": true
   },
   "outputs": [],
   "source": [
    "ind_list = []\n",
    "for i in range(121):\n",
    "    ind_list.append(label_map.loc[label_map['class']==i].index[0])"
   ]
  },
  {
   "cell_type": "code",
   "execution_count": null,
   "metadata": {
    "ExecuteTime": {
     "end_time": "2018-12-05T16:53:06.805157Z",
     "start_time": "2018-12-05T16:53:06.441707Z"
    }
   },
   "outputs": [],
   "source": [
    "train_images = []\n",
    "val_images = []\n",
    "\n",
    "for i in range(cfg.n_classes-1):\n",
    "    df = label_map.iloc[ind_list[i]: ind_list[i+1]]\n",
    "    df_train = df.sample(frac=0.9, random_state=42)\n",
    "    index_train = df_train.index.tolist()\n",
    "    df_val = df[~df.index.isin(index_train)]\n",
    "    train_images.append(df_train['image'].tolist())\n",
    "    val_images.append(df_val['image'].tolist())\n",
    "\n",
    "df = label_map.iloc[ind_list[-1]:]\n",
    "df_train = df.sample(frac=0.9, random_state=42)\n",
    "index_train = df_train.index.tolist()\n",
    "df_val = df[~df.index.isin(index_train)]\n",
    "train_images.append(df_train['image'].tolist())\n",
    "val_images.append(df_val['image'].tolist())\n",
    "\n",
    "train_images = list(itertools.chain.from_iterable(train_images))\n",
    "val_images = list(itertools.chain.from_iterable(val_images))"
   ]
  },
  {
   "cell_type": "code",
   "execution_count": null,
   "metadata": {
    "ExecuteTime": {
     "end_time": "2018-12-05T16:53:07.446137Z",
     "start_time": "2018-12-05T16:53:07.439405Z"
    }
   },
   "outputs": [],
   "source": [
    "len(train_images)+len(val_images)"
   ]
  },
  {
   "cell_type": "code",
   "execution_count": null,
   "metadata": {
    "ExecuteTime": {
     "end_time": "2018-12-05T16:53:08.248611Z",
     "start_time": "2018-12-05T16:53:08.231600Z"
    }
   },
   "outputs": [],
   "source": [
    "df_train = label_map[label_map['image'].isin(train_images)]\n",
    "df_val = label_map[label_map['image'].isin(val_images)]"
   ]
  },
  {
   "cell_type": "code",
   "execution_count": null,
   "metadata": {
    "ExecuteTime": {
     "end_time": "2018-12-05T16:53:09.918980Z",
     "start_time": "2018-12-05T16:53:09.883082Z"
    }
   },
   "outputs": [],
   "source": [
    "for i in range(cfg.n_classes):\n",
    "    name = str(i)\n",
    "    if not os.path.exists(cfg.path+'data_formatted/train_images/class_'+name):\n",
    "        os.makedirs(cfg.path+'data_formatted/train_images/class_'+name)\n",
    "\n",
    "for i in range(cfg.n_classes):\n",
    "    name = str(i)\n",
    "    if not os.path.exists(cfg.path+'data_formatted/val_images/class_'+name):\n",
    "        os.makedirs(cfg.path+'data_formatted/val_images/class_'+name)"
   ]
  },
  {
   "cell_type": "code",
   "execution_count": null,
   "metadata": {
    "ExecuteTime": {
     "end_time": "2018-12-05T16:53:54.200605Z",
     "start_time": "2018-12-05T16:53:13.103772Z"
    }
   },
   "outputs": [],
   "source": [
    "for i in range(df_train.shape[0]):\n",
    "    image = str(df_train['image'].iloc[i])\n",
    "    label = str(df_train['class'].iloc[i])   \n",
    "    shutil.copy(cfg.path+'data/train_images/'+image, cfg.path+'data_formatted/train_images/class_'+label+'/'+image)\n",
    "\n",
    "for i in range(df_val.shape[0]):\n",
    "    image = str(df_val['image'].iloc[i])\n",
    "    label = str(df_val['class'].iloc[i])   \n",
    "    shutil.copy(cfg.path+'data/train_images/'+image, cfg.path+'data_formatted/val_images/class_'+label+'/'+image)"
   ]
  },
  {
   "cell_type": "markdown",
   "metadata": {},
   "source": [
    "## Organize data for submission"
   ]
  },
  {
   "cell_type": "markdown",
   "metadata": {},
   "source": [
    "### Train"
   ]
  },
  {
   "cell_type": "code",
   "execution_count": null,
   "metadata": {
    "ExecuteTime": {
     "end_time": "2018-12-06T11:48:45.207818Z",
     "start_time": "2018-12-06T11:48:18.733482Z"
    }
   },
   "outputs": [],
   "source": [
    "for i in range(cfg.n_classes):\n",
    "    name = str(i)\n",
    "    if not os.path.exists(cfg.path+'data_submission_train/class_'+name):\n",
    "        os.makedirs(cfg.path+'data_submission_train/class_'+name)\n",
    "\n",
    "for i in range(label_map.shape[0]):\n",
    "    image = str(label_map['image'].iloc[i])\n",
    "    label = str(label_map['class'].iloc[i])   \n",
    "    shutil.copy(cfg.path+'data/train_images/'+image, cfg.path+'data_submission_train/class_'+label+'/'+image)"
   ]
  },
  {
   "cell_type": "markdown",
   "metadata": {},
   "source": [
    "### Predict"
   ]
  },
  {
   "cell_type": "code",
   "execution_count": null,
   "metadata": {
    "ExecuteTime": {
     "end_time": "2018-11-30T14:39:16.475846Z",
     "start_time": "2018-11-30T14:39:16.455889Z"
    }
   },
   "outputs": [],
   "source": [
    "for i in range(cfg.n_classes):\n",
    "    name = str(i)\n",
    "    if not os.path.exists(cfg.path+'data_submission_test/class_'+name):\n",
    "        os.makedirs(cfg.path+'data_submission_test/class_'+name)"
   ]
  },
  {
   "cell_type": "markdown",
   "metadata": {},
   "source": [
    "# Preprocessing"
   ]
  },
  {
   "cell_type": "code",
   "execution_count": null,
   "metadata": {
    "ExecuteTime": {
     "end_time": "2018-12-15T14:24:19.763303Z",
     "start_time": "2018-12-15T14:24:19.739888Z"
    }
   },
   "outputs": [],
   "source": [
    "train_datagen = ImageDataGenerator(\n",
    "        rotation_range=360,\n",
    "        width_shift_range=0.1,\n",
    "        height_shift_range=0.1,\n",
    "        rescale=1./255,\n",
    "        shear_range=0.2,\n",
    "        horizontal_flip=True,\n",
    "        fill_mode='nearest',\n",
    "        featurewise_std_normalization=True)\n",
    "\n",
    "val_datagen = ImageDataGenerator(rescale=1./255, featurewise_std_normalization=True)"
   ]
  },
  {
   "cell_type": "code",
   "execution_count": null,
   "metadata": {
    "ExecuteTime": {
     "end_time": "2018-12-15T14:25:23.957315Z",
     "start_time": "2018-12-15T14:25:21.759062Z"
    }
   },
   "outputs": [],
   "source": [
    "train_generator = train_datagen.flow_from_directory(\n",
    "                cfg.path+'data_formatted/train_images',  \n",
    "                target_size=(cfg.image_size, cfg.image_size),  \n",
    "                batch_size=cfg.batch_size,\n",
    "                class_mode='categorical',\n",
    "                color_mode='grayscale')\n",
    "\n",
    "val_generator = val_datagen.flow_from_directory(\n",
    "                cfg.path+'data_formatted/val_images',  \n",
    "                target_size=(cfg.image_size, cfg.image_size),  \n",
    "                batch_size=cfg.batch_size,\n",
    "                class_mode='categorical',\n",
    "                color_mode='grayscale')\n",
    "\n",
    "train_subm_generator = train_datagen.flow_from_directory(\n",
    "                cfg.path+'data_submission_train/',  \n",
    "                target_size=(cfg.image_size, cfg.image_size),  \n",
    "                batch_size=cfg.batch_size,\n",
    "                class_mode='categorical',\n",
    "                color_mode='grayscale')\n",
    "\n",
    "subm_generator = val_datagen.flow_from_directory(\n",
    "                cfg.path+'data_submission_test/',  \n",
    "                target_size=(cfg.image_size, cfg.image_size),  \n",
    "                batch_size=1,\n",
    "                class_mode='categorical',\n",
    "                color_mode='grayscale')"
   ]
  },
  {
   "cell_type": "code",
   "execution_count": null,
   "metadata": {
    "ExecuteTime": {
     "end_time": "2018-12-15T14:25:24.940295Z",
     "start_time": "2018-12-15T14:25:24.929923Z"
    }
   },
   "outputs": [],
   "source": [
    "#output should be 24204\n",
    "21782 +2422"
   ]
  },
  {
   "cell_type": "markdown",
   "metadata": {},
   "source": [
    "# Networks :"
   ]
  },
  {
   "cell_type": "markdown",
   "metadata": {},
   "source": [
    "## CNN best accuracy"
   ]
  },
  {
   "cell_type": "code",
   "execution_count": null,
   "metadata": {
    "ExecuteTime": {
     "end_time": "2018-12-15T14:51:58.484389Z",
     "start_time": "2018-12-15T14:51:57.720402Z"
    },
    "scrolled": true
   },
   "outputs": [],
   "source": [
    "model = Sequential()\n",
    "\n",
    "model.add(Conv2D(32,kernel_size=(3, 3), padding='same', input_shape=(cfg.image_size, cfg.image_size, 1)))\n",
    "model.add(BatchNormalization())\n",
    "model.add(LeakyReLU())\n",
    "model.add(MaxPooling2D(pool_size=(2, 2)))\n",
    "model.add(Conv2D(16, kernel_size=(3, 3), padding='same'))\n",
    "model.add(BatchNormalization())\n",
    "model.add(LeakyReLU())\n",
    "model.add(Dropout(0.7))\n",
    "\n",
    "\n",
    "\n",
    "model.add(Flatten())\n",
    "model.add(Dense(512))\n",
    "model.add(LeakyReLU())\n",
    "model.add(Dropout(0.5))\n",
    "model.add(Dense(512))\n",
    "model.add(LeakyReLU())\n",
    "model.add(Dropout(0.5))\n",
    "model.add(Dense(cfg.n_classes, activation='softmax'))\n",
    "\n",
    "model.compile(optimizer='rmsprop', loss='categorical_crossentropy', metrics=['accuracy'])\n",
    "\n",
    "model.summary()"
   ]
  },
  {
   "cell_type": "markdown",
   "metadata": {},
   "source": [
    "### Train and validate"
   ]
  },
  {
   "cell_type": "code",
   "execution_count": null,
   "metadata": {
    "ExecuteTime": {
     "end_time": "2018-12-15T14:51:59.273970Z",
     "start_time": "2018-12-15T14:51:59.266635Z"
    }
   },
   "outputs": [],
   "source": [
    "import warnings\n",
    "warnings.filterwarnings(\"ignore\")"
   ]
  },
  {
   "cell_type": "code",
   "execution_count": null,
   "metadata": {
    "ExecuteTime": {
     "end_time": "2018-12-15T15:02:32.458383Z",
     "start_time": "2018-12-15T14:51:59.580188Z"
    }
   },
   "outputs": [],
   "source": [
    "history = model.fit_generator(\n",
    "        train_subm_generator,\n",
    "        steps_per_epoch=100,\n",
    "        epochs=cfg.n_epochs-5,\n",
    "        validation_data=val_generator,\n",
    "        validation_steps=80,\n",
    "        class_weight=class_counts)"
   ]
  },
  {
   "cell_type": "markdown",
   "metadata": {},
   "source": [
    "### Train on all images and predict"
   ]
  },
  {
   "cell_type": "code",
   "execution_count": null,
   "metadata": {
    "ExecuteTime": {
     "end_time": "2018-12-06T13:41:41.446091Z",
     "start_time": "2018-12-06T12:46:55.913369Z"
    }
   },
   "outputs": [],
   "source": [
    "history = model.fit_generator(\n",
    "        train_subm_generator,\n",
    "        steps_per_epoch=1000,\n",
    "        epochs=10,\n",
    "        class_weight=class_counts)"
   ]
  },
  {
   "cell_type": "code",
   "execution_count": null,
   "metadata": {
    "ExecuteTime": {
     "end_time": "2018-12-06T13:50:29.067999Z",
     "start_time": "2018-12-06T13:50:29.020578Z"
    }
   },
   "outputs": [],
   "source": [
    "filenames = [i for i in os.listdir(cfg.path+'/data/test_images') if i.endswith('.jpg')]\n",
    "\n",
    "labels = pd.DataFrame(filenames, columns=['image'])\n",
    "labels['class'] = -1"
   ]
  },
  {
   "cell_type": "code",
   "execution_count": null,
   "metadata": {
    "ExecuteTime": {
     "end_time": "2018-12-06T13:50:48.729265Z",
     "start_time": "2018-12-06T13:50:29.878932Z"
    }
   },
   "outputs": [],
   "source": [
    "predictions = model.predict_generator(subm_generator, steps=6132)"
   ]
  },
  {
   "cell_type": "code",
   "execution_count": null,
   "metadata": {
    "ExecuteTime": {
     "end_time": "2018-12-06T13:50:48.738083Z",
     "start_time": "2018-12-06T13:50:48.731906Z"
    }
   },
   "outputs": [],
   "source": [
    "predictions.shape"
   ]
  },
  {
   "cell_type": "code",
   "execution_count": null,
   "metadata": {
    "ExecuteTime": {
     "end_time": "2018-12-06T13:50:56.390026Z",
     "start_time": "2018-12-06T13:50:56.382435Z"
    }
   },
   "outputs": [],
   "source": [
    "labels['class'] = np.argmax(predictions, axis=1)"
   ]
  },
  {
   "cell_type": "code",
   "execution_count": null,
   "metadata": {
    "ExecuteTime": {
     "end_time": "2018-12-06T13:50:57.695088Z",
     "start_time": "2018-12-06T13:50:57.686339Z"
    },
    "scrolled": true
   },
   "outputs": [],
   "source": [
    "labels['class']"
   ]
  },
  {
   "cell_type": "code",
   "execution_count": null,
   "metadata": {
    "ExecuteTime": {
     "end_time": "2018-12-06T13:52:50.997955Z",
     "start_time": "2018-12-06T13:52:50.964493Z"
    }
   },
   "outputs": [],
   "source": [
    "labels.to_csv(cfg.path+'output_guillaume/predictions/keras_pp_1.csv', index=False)"
   ]
  },
  {
   "cell_type": "markdown",
   "metadata": {},
   "source": [
    "## CNN"
   ]
  },
  {
   "cell_type": "markdown",
   "metadata": {},
   "source": [
    "### Train"
   ]
  },
  {
   "cell_type": "code",
   "execution_count": null,
   "metadata": {
    "ExecuteTime": {
     "end_time": "2018-12-11T09:43:38.465466Z",
     "start_time": "2018-12-11T09:43:38.265156Z"
    },
    "scrolled": true
   },
   "outputs": [],
   "source": [
    "model = Sequential()\n",
    "\n",
    "model.add(Conv2D(32, kernel_size=(3, 3), padding='same', activation='relu', input_shape=(cfg.image_size, cfg.image_size, 3)))\n",
    "model.add(Conv2D(16, kernel_size=(3, 3), padding='same', activation='relu'))\n",
    "model.add(MaxPooling2D(pool_size=(3, 3), strides=2))\n",
    "model.add(Conv2D(64, kernel_size=(3, 3), padding='same', activation='relu'))\n",
    "model.add(Conv2D(32, kernel_size=(3, 3), padding='same', activation='relu'))\n",
    "model.add(MaxPooling2D(pool_size=(3, 3), strides=2))\n",
    "\n",
    "model.add(Flatten())\n",
    "model.add(Dense(512, activation='relu'))\n",
    "model.add(Dropout(0.5))\n",
    "model.add(Dense(512, activation='relu'))\n",
    "model.add(Dropout(0.5))\n",
    "model.add(Dense(cfg.n_classes, activation='softmax'))\n",
    "\n",
    "\n",
    "sgd = optimizers.SGD(lr=0.001, decay=1e-6, momentum=0.9, nesterov=True)\n",
    "model.compile(optimizer=sgd, loss='categorical_crossentropy', metrics=['accuracy'])\n",
    "\n",
    "model.summary()"
   ]
  },
  {
   "cell_type": "code",
   "execution_count": null,
   "metadata": {
    "ExecuteTime": {
     "end_time": "2018-12-11T09:44:07.154716Z",
     "start_time": "2018-12-11T09:44:07.151003Z"
    }
   },
   "outputs": [],
   "source": [
    "import warnings\n",
    "warnings.filterwarnings(\"ignore\")"
   ]
  },
  {
   "cell_type": "code",
   "execution_count": null,
   "metadata": {
    "ExecuteTime": {
     "start_time": "2018-12-11T09:44:34.063Z"
    }
   },
   "outputs": [],
   "source": [
    "history = model.fit_generator(\n",
    "        train_generator,\n",
    "        steps_per_epoch=200,\n",
    "        epochs=5,\n",
    "        validation_data=val_generator,\n",
    "        validation_steps=80)"
   ]
  },
  {
   "cell_type": "markdown",
   "metadata": {},
   "source": [
    "**Try to change optimizer to adam**"
   ]
  },
  {
   "cell_type": "code",
   "execution_count": null,
   "metadata": {
    "ExecuteTime": {
     "end_time": "2018-11-28T17:26:05.548771Z",
     "start_time": "2018-11-28T17:26:05.175481Z"
    }
   },
   "outputs": [],
   "source": [
    "model.save(cfg.path+'/output_guillaume/models/model_5.h5')"
   ]
  },
  {
   "cell_type": "markdown",
   "metadata": {},
   "source": [
    "## NEW"
   ]
  },
  {
   "cell_type": "code",
   "execution_count": null,
   "metadata": {},
   "outputs": [],
   "source": [
    "num_test_samples=10000\n",
    "\n",
    "input_shape = (cfg.image_size, cfg.image_size, 3)"
   ]
  },
  {
   "cell_type": "code",
   "execution_count": null,
   "metadata": {},
   "outputs": [],
   "source": [
    "model = Sequential()\n",
    "\n",
    "model.add(Conv2D(32, (3, 3), input_shape=input_shape))\n",
    "model.add(Activation('relu'))\n",
    "\n",
    "model.add(Conv2D(16, (3, 3)))\n",
    "model.add(Activation('relu'))\n",
    "model.add(MaxPooling2D(pool_size=(3, 3)))\n",
    "model.add(Dropout(0.5))\n",
    "\n",
    "model.add(Conv2D(64, (3, 3)))\n",
    "model.add(Activation('relu'))\n",
    "\n",
    "model.add(Conv2D(32, (3, 3)))\n",
    "model.add(Activation('relu'))\n",
    "model.add(MaxPooling2D(pool_size=(3, 3)))\n",
    "model.add(Dropout(0.5))\n",
    "\n",
    "model.add(Flatten())\n",
    "model.add(Dense(512,activation='linear'))\n",
    "model.add(LeakyReLU(alpha=.3))\n",
    "model.add(Dropout(0.5))\n",
    "\n",
    "model.add(Dense(512,activation='linear'))\n",
    "model.add(LeakyReLU(alpha=.3))\n",
    "\n",
    "model.add(Dense(cfg.n_classes))\n",
    "model.add(Activation('softmax'))\n",
    "\n",
    "model.compile(loss='categorical_crossentropy',\n",
    "              optimizer='Adam',\n",
    "              metrics=['accuracy'])"
   ]
  },
  {
   "cell_type": "code",
   "execution_count": null,
   "metadata": {},
   "outputs": [],
   "source": [
    "model.fit_generator(\n",
    "    train_generator,\n",
    "    steps_per_epoch=cfg.batch_size,\n",
    "    val_generator,\n",
    "    epochs=cfg.n_epochs)"
   ]
  },
  {
   "cell_type": "markdown",
   "metadata": {},
   "source": [
    "**NOTE**\n",
    "* Try to use different pre trained model\n",
    "* Try to use pre trained models as features extractors combined to RFC or XGB\n",
    "* Try to use different architecture after pre trained models"
   ]
  }
 ],
 "metadata": {
  "kernelspec": {
   "display_name": "Python 3",
   "language": "python",
   "name": "python3"
  },
  "language_info": {
   "codemirror_mode": {
    "name": "ipython",
    "version": 3
   },
   "file_extension": ".py",
   "mimetype": "text/x-python",
   "name": "python",
   "nbconvert_exporter": "python",
   "pygments_lexer": "ipython3",
   "version": "3.6.6"
  },
  "toc": {
   "nav_menu": {},
   "number_sections": true,
   "sideBar": true,
   "skip_h1_title": false,
   "toc_cell": false,
   "toc_position": {
    "height": "727px",
    "left": "0px",
    "right": "1293px",
    "top": "110px",
    "width": "147px"
   },
   "toc_section_display": "block",
   "toc_window_display": true
  }
 },
 "nbformat": 4,
 "nbformat_minor": 2
}
